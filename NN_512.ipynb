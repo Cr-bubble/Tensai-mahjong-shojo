{
 "cells": [
  {
   "cell_type": "code",
   "execution_count": 34,
   "metadata": {},
   "outputs": [],
   "source": [
    "#import\n",
    "\n",
    "import tensorflow as tf\n",
    "#print(tf.__version__)\n",
    "from tensorflow.keras.models import Sequential\n",
    "from tensorflow.keras.layers import Dense, Dropout\n",
    "from tensorflow.keras.models import load_model\n",
    "from tensorflow.keras.callbacks import Callback\n",
    "import numpy as np\n",
    "import pandas as pd\n",
    "import os\n",
    "import matplotlib.pyplot as plt"
   ]
  },
  {
   "cell_type": "code",
   "execution_count": 60,
   "metadata": {},
   "outputs": [],
   "source": [
    "#load model if already trained\n",
    "\n",
    "model = load_model('NN_512')"
   ]
  },
  {
   "cell_type": "code",
   "execution_count": null,
   "metadata": {},
   "outputs": [],
   "source": [
    "#create a new model\n",
    "\n",
    "model = Sequential([Dense(256, activation='relu', input_shape=(510,)),\n",
    "    Dense(128, activation='relu'),\n",
    "    Dense(128, activation='relu'),\n",
    "    Dropout(0.2),\n",
    "    Dense(34, activation='softmax')\n",
    "])\n",
    "\n",
    "# 編譯模型\n",
    "model.compile(\n",
    "    optimizer='adam',              # 選擇 Adam 優化器\n",
    "    loss='categorical_crossentropy', # 適用於多分類問題\n",
    "    metrics=['accuracy']\n",
    ")\n"
   ]
  },
  {
   "cell_type": "code",
   "execution_count": null,
   "metadata": {},
   "outputs": [],
   "source": [
    "# 訓練模型\n",
    "\n",
    "class IgnoreBadEpochs(Callback):\n",
    "    def __init__(self):\n",
    "        super().__init__()\n",
    "        self.best_accuracy = 0.0  # 初始化最佳验证准确率\n",
    "        self.best_weights = None  # 保存最佳模型权重\n",
    "\n",
    "    def on_epoch_end(self, epoch, logs=None):\n",
    "        current_accuracy = logs.get('val_accuracy')\n",
    "        if abs(current_accuracy - self.best_accuracy) < 0.01:\n",
    "            # 如果当前验证准确率优于最佳结果，更新最佳结果和权重\n",
    "            self.best_accuracy = current_accuracy\n",
    "            self.best_weights = self.model.get_weights()  # 保存当前模型权重\n",
    "            print(f\"\\nEpoch {epoch + 1}: New best accuracy ({current_accuracy:.4f}) saved.\")\n",
    "        else:\n",
    "            # 如果表现变差，忽略当前结果\n",
    "            print(f\"\\nEpoch {epoch + 1}: Accuracy dropped ({current_accuracy:.4f}), ignored.\")\n",
    "\n",
    "    def on_train_end(self, logs=None):\n",
    "        # 在训练结束后恢复最佳权重\n",
    "        if self.best_weights is not None:\n",
    "            self.model.set_weights(self.best_weights)\n",
    "            print(\"\\nRestored the best model weights with accuracy:\", self.best_accuracy)"
   ]
  },
  {
   "cell_type": "code",
   "execution_count": null,
   "metadata": {},
   "outputs": [],
   "source": [
    "#save train data\n",
    "\n",
    "# 載入數據\n",
    "folder_path = 'dataset_extracted'\n",
    "\n",
    "# 創建一個空的 DataFrame，準備存放所有合併的數據\n",
    "all_data = pd.DataFrame()\n",
    "\n",
    "dataframes = []\n",
    "cnt = 0\n",
    "for file in os.listdir(folder_path):\n",
    "    if file.endswith('.csv'):\n",
    "        file_path = os.path.join(folder_path, file)\n",
    "        data = pd.read_csv(file_path)\n",
    "        dataframes.append(data)  # 將每個 DataFrame 添加到列表中\n",
    "        cnt+=1\n",
    "        if(cnt > 1000):\n",
    "            break\n",
    "\n",
    "# 一次性合併所有 DataFrame\n",
    "all_data = pd.concat(dataframes, ignore_index=True)\n",
    " # 資料預處理\n",
    "x_train = np.zeros((all_data.shape[0], all_data.shape[1] - 1))\n",
    "\n",
    "p0_pov = 68\n",
    "p0_meld = 102\n",
    "p0_pool = 238\n",
    "p0_discard = 374\n",
    "\n",
    "def add_data(start):\n",
    "    x_train[:, start:start+34] = all_data.iloc[:, start:start+34].values\n",
    "\n",
    "add_data(p0_pov)\n",
    "add_data(p0_meld)\n",
    "add_data(p0_pool)\n",
    "add_data(p0_discard)\n",
    "\n",
    "y_train = all_data.iloc[:, -1].values  # 获取最后一列作为标签\n",
    "np.save('x_train.npy', x_train)\n",
    "np.save('y_train.npy', y_train)"
   ]
  },
  {
   "cell_type": "code",
   "execution_count": 65,
   "metadata": {},
   "outputs": [
    {
     "name": "stdout",
     "output_type": "stream",
     "text": [
      "Epoch 1/20\n",
      "6063/6065 [============================>.] - ETA: 0s - loss: 1.2974 - accuracy: 0.5586\n",
      "Epoch 1: Accuracy dropped (0.5140), ignored.\n",
      "6065/6065 [==============================] - 24s 4ms/step - loss: 1.2974 - accuracy: 0.5586 - val_loss: 1.5362 - val_accuracy: 0.5140\n",
      "Epoch 2/20\n",
      "6058/6065 [============================>.] - ETA: 0s - loss: 1.2965 - accuracy: 0.5586\n",
      "Epoch 2: Accuracy dropped (0.5177), ignored.\n",
      "6065/6065 [==============================] - 24s 4ms/step - loss: 1.2966 - accuracy: 0.5586 - val_loss: 1.5439 - val_accuracy: 0.5177\n",
      "Epoch 3/20\n",
      "6058/6065 [============================>.] - ETA: 0s - loss: 1.2950 - accuracy: 0.5598\n",
      "Epoch 3: Accuracy dropped (0.5164), ignored.\n",
      "6065/6065 [==============================] - 25s 4ms/step - loss: 1.2950 - accuracy: 0.5598 - val_loss: 1.5506 - val_accuracy: 0.5164\n",
      "Epoch 4/20\n",
      "6059/6065 [============================>.] - ETA: 0s - loss: 1.2941 - accuracy: 0.5593\n",
      "Epoch 4: Accuracy dropped (0.5132), ignored.\n",
      "6065/6065 [==============================] - 25s 4ms/step - loss: 1.2941 - accuracy: 0.5593 - val_loss: 1.5542 - val_accuracy: 0.5132\n",
      "Epoch 5/20\n",
      "6054/6065 [============================>.] - ETA: 0s - loss: 1.2965 - accuracy: 0.5591\n",
      "Epoch 5: Accuracy dropped (0.5143), ignored.\n",
      "6065/6065 [==============================] - 24s 4ms/step - loss: 1.2965 - accuracy: 0.5591 - val_loss: 1.5765 - val_accuracy: 0.5143\n",
      "Epoch 6/20\n",
      "6055/6065 [============================>.] - ETA: 0s - loss: 1.2983 - accuracy: 0.5585\n",
      "Epoch 6: Accuracy dropped (0.5165), ignored.\n",
      "6065/6065 [==============================] - 23s 4ms/step - loss: 1.2982 - accuracy: 0.5585 - val_loss: 1.5376 - val_accuracy: 0.5165\n",
      "Epoch 7/20\n",
      "6053/6065 [============================>.] - ETA: 0s - loss: 1.2974 - accuracy: 0.5586\n",
      "Epoch 7: Accuracy dropped (0.5152), ignored.\n",
      "6065/6065 [==============================] - 24s 4ms/step - loss: 1.2975 - accuracy: 0.5586 - val_loss: 1.5509 - val_accuracy: 0.5152\n",
      "Epoch 8/20\n",
      "6058/6065 [============================>.] - ETA: 0s - loss: 1.2957 - accuracy: 0.5598\n",
      "Epoch 8: Accuracy dropped (0.5170), ignored.\n",
      "6065/6065 [==============================] - 24s 4ms/step - loss: 1.2956 - accuracy: 0.5598 - val_loss: 1.5974 - val_accuracy: 0.5170\n",
      "Epoch 9/20\n",
      "6056/6065 [============================>.] - ETA: 0s - loss: 1.2962 - accuracy: 0.5590\n",
      "Epoch 9: Accuracy dropped (0.5195), ignored.\n",
      "6065/6065 [==============================] - 25s 4ms/step - loss: 1.2962 - accuracy: 0.5590 - val_loss: 1.6017 - val_accuracy: 0.5195\n",
      "Epoch 10/20\n",
      "6054/6065 [============================>.] - ETA: 0s - loss: 1.2973 - accuracy: 0.5589\n",
      "Epoch 10: Accuracy dropped (0.5190), ignored.\n",
      "6065/6065 [==============================] - 24s 4ms/step - loss: 1.2973 - accuracy: 0.5589 - val_loss: 1.6078 - val_accuracy: 0.5190\n",
      "Epoch 11/20\n",
      "6058/6065 [============================>.] - ETA: 0s - loss: 1.2967 - accuracy: 0.5587\n",
      "Epoch 11: Accuracy dropped (0.5191), ignored.\n",
      "6065/6065 [==============================] - 24s 4ms/step - loss: 1.2966 - accuracy: 0.5587 - val_loss: 1.5723 - val_accuracy: 0.5191\n",
      "Epoch 12/20\n",
      "6055/6065 [============================>.] - ETA: 0s - loss: 1.2991 - accuracy: 0.5590\n",
      "Epoch 12: Accuracy dropped (0.5156), ignored.\n",
      "6065/6065 [==============================] - 25s 4ms/step - loss: 1.2991 - accuracy: 0.5590 - val_loss: 1.6071 - val_accuracy: 0.5156\n",
      "Epoch 13/20\n",
      "6063/6065 [============================>.] - ETA: 0s - loss: 1.2956 - accuracy: 0.5594\n",
      "Epoch 13: Accuracy dropped (0.5140), ignored.\n",
      "6065/6065 [==============================] - 24s 4ms/step - loss: 1.2956 - accuracy: 0.5594 - val_loss: 1.5652 - val_accuracy: 0.5140\n",
      "Epoch 14/20\n",
      "6056/6065 [============================>.] - ETA: 0s - loss: 1.2992 - accuracy: 0.5582\n",
      "Epoch 14: Accuracy dropped (0.5165), ignored.\n",
      "6065/6065 [==============================] - 24s 4ms/step - loss: 1.2992 - accuracy: 0.5582 - val_loss: 1.5977 - val_accuracy: 0.5165\n",
      "Epoch 15/20\n",
      "6056/6065 [============================>.] - ETA: 0s - loss: 1.2967 - accuracy: 0.5593\n",
      "Epoch 15: Accuracy dropped (0.5199), ignored.\n",
      "6065/6065 [==============================] - 24s 4ms/step - loss: 1.2967 - accuracy: 0.5593 - val_loss: 1.5936 - val_accuracy: 0.5199\n",
      "Epoch 16/20\n",
      "6059/6065 [============================>.] - ETA: 0s - loss: 1.2980 - accuracy: 0.5587\n",
      "Epoch 16: Accuracy dropped (0.5165), ignored.\n",
      "6065/6065 [==============================] - 25s 4ms/step - loss: 1.2980 - accuracy: 0.5587 - val_loss: 1.5881 - val_accuracy: 0.5165\n",
      "Epoch 17/20\n",
      "6054/6065 [============================>.] - ETA: 0s - loss: 1.2968 - accuracy: 0.5592\n",
      "Epoch 17: Accuracy dropped (0.5156), ignored.\n",
      "6065/6065 [==============================] - 25s 4ms/step - loss: 1.2968 - accuracy: 0.5592 - val_loss: 1.5798 - val_accuracy: 0.5156\n",
      "Epoch 18/20\n",
      "6063/6065 [============================>.] - ETA: 0s - loss: 1.2980 - accuracy: 0.5591\n",
      "Epoch 18: Accuracy dropped (0.5179), ignored.\n",
      "6065/6065 [==============================] - 26s 4ms/step - loss: 1.2981 - accuracy: 0.5591 - val_loss: 1.5927 - val_accuracy: 0.5179\n",
      "Epoch 19/20\n",
      "6064/6065 [============================>.] - ETA: 0s - loss: 1.2970 - accuracy: 0.5596\n",
      "Epoch 19: Accuracy dropped (0.5174), ignored.\n",
      "6065/6065 [==============================] - 27s 5ms/step - loss: 1.2970 - accuracy: 0.5596 - val_loss: 1.5817 - val_accuracy: 0.5174\n",
      "Epoch 20/20\n",
      "6061/6065 [============================>.] - ETA: 0s - loss: 1.3011 - accuracy: 0.5585\n",
      "Epoch 20: Accuracy dropped (0.5172), ignored.\n",
      "6065/6065 [==============================] - 27s 4ms/step - loss: 1.3011 - accuracy: 0.5585 - val_loss: 1.5855 - val_accuracy: 0.5172\n"
     ]
    },
    {
     "data": {
      "image/png": "[encoded data removed]",
      "text/plain": [
       "<Figure size 800x600 with 1 Axes>"
      ]
     },
     "metadata": {},
     "output_type": "display_data"
    }
   ],
   "source": [
    "#load train data and train\n",
    "\n",
    "x_train = np.load('x_train.npy')\n",
    "y_train = np.load('y_train.npy')\n",
    "\n",
    "# 将标签转为 One-Hot 编码\n",
    "y_train_one_hot = tf.keras.utils.to_categorical(y_train)\n",
    "\n",
    "# 使用回调函数训练模型\n",
    "history = model.fit(\n",
    "    x_train, y_train_one_hot,\n",
    "    epochs=20,\n",
    "    batch_size=64,\n",
    "    validation_split=0.2,\n",
    "    callbacks=[IgnoreBadEpochs()]  # 添加自定义回调\n",
    ")\n",
    "\n",
    "\n",
    "train_accuracy = history.history['accuracy']\n",
    "val_accuracy = history.history['val_accuracy']\n",
    "epochs = range(1, len(train_accuracy) + 1)\n",
    "\n",
    "# 繪製圖表\n",
    "plt.figure(figsize=(8, 6))\n",
    "plt.plot(epochs, train_accuracy, label='Training Accuracy', marker='o')\n",
    "plt.plot(epochs, val_accuracy, label='Validation Accuracy', marker='x')\n",
    "plt.title('Training and Validation Accuracy')\n",
    "plt.xlabel('Epochs')\n",
    "plt.ylabel('Accuracy')\n",
    "plt.legend()\n",
    "plt.grid()\n",
    "plt.show()\n"
   ]
  },
  {
   "cell_type": "code",
   "execution_count": 56,
   "metadata": {},
   "outputs": [
    {
     "name": "stderr",
     "output_type": "stream",
     "text": [
      "WARNING:absl:Found untraced functions such as _update_step_xla while saving (showing 1 of 1). These functions will not be directly callable after loading.\n"
     ]
    },
    {
     "name": "stdout",
     "output_type": "stream",
     "text": [
      "INFO:tensorflow:Assets written to: NN_512\\assets\n"
     ]
    },
    {
     "name": "stderr",
     "output_type": "stream",
     "text": [
      "INFO:tensorflow:Assets written to: NN_512\\assets\n"
     ]
    }
   ],
   "source": [
    "#save model\n",
    "model.save('NN_512')"
   ]
  },
  {
   "cell_type": "code",
   "execution_count": 38,
   "metadata": {},
   "outputs": [],
   "source": [
    "#確保輸出只有輸入\n",
    "\n",
    "def filter_prediction(input_tiles, prediction):\n",
    "    \"\"\"\n",
    "    过滤预测结果，确保输出的牌在玩家手牌内。\n",
    "    \n",
    "    Args:\n",
    "        input_tiles (np.array): 玩家手牌 (长度为34的向量)\n",
    "        prediction (np.array): 模型的输出 (长度为34的概率向量)\n",
    "    \n",
    "    Returns:\n",
    "        int: 经过过滤后的输出牌索引\n",
    "    \"\"\"\n",
    "    legal_tiles = np.where(input_tiles > 0)[1]  # 找到手牌中合法牌的索引\n",
    "    prediction = prediction.reshape(34,)\n",
    "    filtered_prediction = np.zeros_like(prediction)\n",
    "    \n",
    "    #print(f\"合法牌索引：{legal_tiles}\")\n",
    "    #print(f\"原始预测值：{prediction}\")\n",
    "    \n",
    "    filtered_prediction[legal_tiles] = prediction[legal_tiles]\n",
    "    \n",
    "    #print(f\"过滤后的预测值：{filtered_prediction}\")\n",
    "    \n",
    "    return np.argmax(filtered_prediction)\n"
   ]
  },
  {
   "cell_type": "code",
   "execution_count": 36,
   "metadata": {},
   "outputs": [],
   "source": [
    "#棄牌模型\n",
    "\n",
    "def discard(hands_input):\n",
    "    # 初始化手牌\n",
    "    hands = np.zeros(34)  # 假设有 34 种牌\n",
    "\n",
    "    # 根据 hands_input 中的牌来填充 hands 数组\n",
    "    for tile in hands_input:\n",
    "        hands[tile['type'] * 9 + tile['index'] - 1] += 1\n",
    "\n",
    "    # 让模型预测\n",
    "    hands = hands.reshape(1, 34)  # 使其成为符合模型要求的形状\n",
    "    out = filter_prediction(hands, model.predict(hands))\n",
    "\n",
    "\n",
    "    # 找到并返回对应的弃牌\n",
    "    for i, tile in enumerate(hands_input):\n",
    "        if tile['type'] * 9 + tile['index'] - 1 == out:\n",
    "            return i"
   ]
  },
  {
   "cell_type": "code",
   "execution_count": 39,
   "metadata": {},
   "outputs": [
    {
     "name": "stdout",
     "output_type": "stream",
     "text": [
      "1/1 [==============================] - 0s 16ms/step\n",
      "10\n"
     ]
    }
   ],
   "source": [
    "# 測試\n",
    "hands = [1, 0, 0, 0, 0, 0, 0, 0, 0,  3, 0, 0, 0, 0, 0, 0, 0, 1,  1, 0, 0, 0, 0, 0, 0, 0, 1,  1, 1, 1, 1, 1, 1, 1]\n",
    "#new =   [0, 0, 0, 0, 0, 0, 0, 0, 0,  1, 0, 0, 0, 0, 0, 0, 0, 0,  0, 0, 0, 0, 0, 0, 0, 0, 0,  0, 0, 0, 0, 0, 0, 0]\n",
    "new = 9\n",
    "\n",
    "hands_input = [\n",
    "    {'dora': False, 'type': 0, 'index': 3},\n",
    "    {'dora': False, 'type': 0, 'index': 2},\n",
    "    {'dora': False, 'type': 0, 'index': 3},\n",
    "    {'dora': False, 'type': 1, 'index': 4},\n",
    "    {'dora': False, 'type': 1, 'index': 5},\n",
    "    {'dora': False, 'type': 1, 'index': 6},\n",
    "    {'dora': False, 'type': 1, 'index': 7},\n",
    "    {'dora': False, 'type': 1, 'index': 8},\n",
    "    {'dora': False, 'type': 1, 'index': 9},\n",
    "    {'dora': False, 'type': 2, 'index': 0},\n",
    "    {'dora': False, 'type': 3, 'index': 1},\n",
    "    {'dora': False, 'type': 3, 'index': 2},\n",
    "    {'dora': False, 'type': 3, 'index': 3},\n",
    "    {'dora': False, 'type': 3, 'index': 3}\n",
    "]\n",
    "print(discard(hands_input))"
   ]
  },
  {
   "cell_type": "code",
   "execution_count": 2,
   "metadata": {},
   "outputs": [],
   "source": [
    "#吃碰槓模型\n",
    "\n",
    "def action(type, combination, hands):\n",
    "    #type : chi, pong, kong\n",
    "    #combination: 23吃4萬 or 24吃3萬\n",
    "\n",
    "    decision = 0 \n",
    "\n",
    "    return decision"
   ]
  }
 ],
 "metadata": {
  "kernelspec": {
   "display_name": "ML",
   "language": "python",
   "name": "python3"
  },
  "language_info": {
   "codemirror_mode": {
    "name": "ipython",
    "version": 3
   },
   "file_extension": ".py",
   "mimetype": "text/x-python",
   "name": "python",
   "nbconvert_exporter": "python",
   "pygments_lexer": "ipython3",
   "version": "3.9.20"
  }
 },
 "nbformat": 4,
 "nbformat_minor": 2
}
