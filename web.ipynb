{
 "cells": [
  {
   "cell_type": "markdown",
   "metadata": {},
   "source": [
    "# 雀魂網頁相關(?)\n",
    "處理 python bot -> 網頁雀魂的各種雜事...\n",
    "\n",
    "(因為這不太重要+我懶所以)\n",
    "座標目前都用我本機量的絕對座標，理論上不同電腦會有偏差\n",
    "如果要量的話可以用下面這段程式碼抓 x,y 座標(但挺麻煩qwq)"
   ]
  },
  {
   "cell_type": "code",
   "execution_count": 136,
   "metadata": {},
   "outputs": [
    {
     "data": {
      "text/plain": [
       "'\\nfrom pynput import mouse, keyboard\\n\\ndef on_click(x, y, button, pressed):\\n    if pressed:  # 滑鼠點擊時打印座標\\n        print(f\"滑鼠點擊座標：x={x}, y={y}\")\\n\\ndef on_press(key):\\n    try:\\n        # 如果按下的鍵是 \\'e\\'，退出程式\\n        if key.char == \\'e\\':\\n            print(\"偵測到按下 \\'e\\' 鍵，結束程式。\")\\n            return False  # 停止鍵盤監聽\\n    except AttributeError:\\n        # 忽略非字母按鍵\\n        pass\\n\\n# 啟動滑鼠監聽器\\nwith mouse.Listener(on_click=on_click) as mouse_listener, keyboard.Listener(on_press=on_press) as keyboard_listener:\\n    print(\"請點擊滑鼠查看座標，按下 \\'e\\' 鍵結束程式。\")\\n    keyboard_listener.join()  # 等待鍵盤監聽器退出\\n    mouse_listener.stop()  # 停止滑鼠監聽器\\n\\n'"
      ]
     },
     "execution_count": 136,
     "metadata": {},
     "output_type": "execute_result"
    }
   ],
   "source": [
    "'''\n",
    "from pynput import mouse, keyboard\n",
    "\n",
    "def on_click(x, y, button, pressed):\n",
    "    if pressed:  # 滑鼠點擊時打印座標\n",
    "        print(f\"滑鼠點擊座標：x={x}, y={y}\")\n",
    "\n",
    "def on_press(key):\n",
    "    try:\n",
    "        # 如果按下的鍵是 'e'，退出程式\n",
    "        if key.char == 'e':\n",
    "            print(\"偵測到按下 'e' 鍵，結束程式。\")\n",
    "            return False  # 停止鍵盤監聽\n",
    "    except AttributeError:\n",
    "        # 忽略非字母按鍵\n",
    "        pass\n",
    "\n",
    "# 啟動滑鼠監聽器\n",
    "with mouse.Listener(on_click=on_click) as mouse_listener, keyboard.Listener(on_press=on_press) as keyboard_listener:\n",
    "    print(\"請點擊滑鼠查看座標，按下 'e' 鍵結束程式。\")\n",
    "    keyboard_listener.join()  # 等待鍵盤監聽器退出\n",
    "    mouse_listener.stop()  # 停止滑鼠監聽器\n",
    "\n",
    "'''"
   ]
  },
  {
   "cell_type": "markdown",
   "metadata": {},
   "source": [
    "### Import & Parameters"
   ]
  },
  {
   "cell_type": "code",
   "execution_count": 137,
   "metadata": {},
   "outputs": [],
   "source": [
    "from selenium import webdriver\n",
    "from pynput import mouse, keyboard\n",
    "from selenium.webdriver.common.action_chains import ActionChains\n",
    "import pyautogui\n",
    "import time\n",
    "import sys\n",
    "from enum import Enum, auto\n",
    "\n",
    "class State(Enum):\n",
    "    Loading = auto()\n",
    "    Home = auto()\n",
    "    InGame = auto()\n",
    "\n",
    "\n",
    "OP_INTERVAL = 1 # click interval\n",
    "current_state = None\n",
    "current_hand = None\n",
    "driver = None\n",
    "main_init = False\n",
    "auto_running = False"
   ]
  },
  {
   "cell_type": "markdown",
   "metadata": {},
   "source": [
    "### Start Game & Auto Login\n",
    "\n",
    "開啟一個 Chrome 瀏覽器連到雀魂並登入測試帳號"
   ]
  },
  {
   "cell_type": "code",
   "execution_count": 138,
   "metadata": {},
   "outputs": [],
   "source": [
    "def start_game():\n",
    "    global current_state, driver\n",
    "    current_state = State.Loading\n",
    "    driver = webdriver.Chrome()\n",
    "    driver.get(\"https://game.maj-soul.com\")\n",
    "    driver.maximize_window()\n",
    "    time.sleep(8)\n",
    "\n",
    "    pyautogui.moveTo(1200, 450)\n",
    "    pyautogui.click()\n",
    "    pyautogui.write(\"paopaodmm@gmail.com\", interval=0.05)\n",
    "    time.sleep(OP_INTERVAL)\n",
    "\n",
    "    pyautogui.moveTo(1200, 520)\n",
    "    pyautogui.click()\n",
    "    pyautogui.write(\"paopao123\", interval=0.05)\n",
    "    time.sleep(OP_INTERVAL)\n",
    "\n",
    "    pyautogui.moveTo(1200, 670)\n",
    "    pyautogui.click()\n",
    "\n",
    "    # wait for the page to load\n",
    "    time.sleep(12)\n",
    "\n",
    "    # close the pop-up\n",
    "    pyautogui.moveTo(1640, 370)\n",
    "    pyautogui.click()\n",
    "    time.sleep(OP_INTERVAL)\n",
    "    current_state = State.Home\n",
    "    print(\"Game started\")"
   ]
  },
  {
   "cell_type": "markdown",
   "metadata": {},
   "source": [
    "### Close browser"
   ]
  },
  {
   "cell_type": "code",
   "execution_count": 139,
   "metadata": {},
   "outputs": [],
   "source": [
    "def close_browser():\n",
    "    global driver\n",
    "    driver.quit()\n",
    "    driver = None\n",
    "    print(\"Browser closed.\")"
   ]
  },
  {
   "cell_type": "markdown",
   "metadata": {},
   "source": [
    "### 自動創機器人房間\n",
    "\n",
    "必須在首頁才能呼叫"
   ]
  },
  {
   "cell_type": "code",
   "execution_count": 140,
   "metadata": {},
   "outputs": [],
   "source": [
    "def enter_bot_game():\n",
    "    global current_state\n",
    "    if current_state != State.Home:\n",
    "        print(\"Not in home state, Abort\")\n",
    "        return\n",
    "    # create bot room\n",
    "    pyautogui.moveTo(1280, 750)\n",
    "    pyautogui.click()\n",
    "    time.sleep(OP_INTERVAL)\n",
    "\n",
    "    pyautogui.moveTo(1280, 500)\n",
    "    pyautogui.click()\n",
    "    time.sleep(OP_INTERVAL)\n",
    "\n",
    "    pyautogui.moveTo(965, 920)\n",
    "    pyautogui.click()\n",
    "    time.sleep(OP_INTERVAL)\n",
    "\n",
    "    # add 3 bots\n",
    "    pyautogui.moveTo(700, 670)\n",
    "    pyautogui.click()\n",
    "    time.sleep(OP_INTERVAL)\n",
    "\n",
    "    pyautogui.moveTo(1000, 670)\n",
    "    pyautogui.click()\n",
    "    time.sleep(OP_INTERVAL)\n",
    "\n",
    "    pyautogui.moveTo(1300, 670)\n",
    "    pyautogui.click()\n",
    "    time.sleep(OP_INTERVAL)\n",
    "\n",
    "    # start the game\n",
    "    pyautogui.moveTo(1080, 950)\n",
    "    pyautogui.click()\n",
    "    time.sleep(OP_INTERVAL)\n",
    "\n",
    "    # wait for the game to start\n",
    "    time.sleep(15)\n",
    "    current_state = State.InGame\n",
    "    print(\"Bot game started\")"
   ]
  },
  {
   "cell_type": "markdown",
   "metadata": {},
   "source": [
    "### Leave game"
   ]
  },
  {
   "cell_type": "code",
   "execution_count": 141,
   "metadata": {},
   "outputs": [],
   "source": [
    "def leave_bot_game():\n",
    "    global current_state\n",
    "    if current_state != State.InGame:\n",
    "        print(\"Not in game state, Abort\")\n",
    "        return\n",
    "    \n",
    "    pyautogui.moveTo(1645, 235)\n",
    "    pyautogui.click()\n",
    "    time.sleep(OP_INTERVAL)\n",
    "\n",
    "    pyautogui.moveTo(825, 710)\n",
    "    pyautogui.click()\n",
    "    time.sleep(OP_INTERVAL)\n",
    "    \n",
    "    # Return to the main page time\n",
    "    time.sleep(5)\n",
    "    current_state = State.Home\n",
    "    print(\"Bot game left\")"
   ]
  },
  {
   "cell_type": "markdown",
   "metadata": {},
   "source": [
    "### 嵌入 js code\n",
    "github上的code ><"
   ]
  },
  {
   "cell_type": "code",
   "execution_count": 142,
   "metadata": {},
   "outputs": [],
   "source": [
    "from selenium.webdriver.support.ui import WebDriverWait\n",
    "from selenium.webdriver.support import expected_conditions as EC\n",
    "\n",
    "\n",
    "\n",
    "def inject_js():\n",
    "    global driver\n",
    "    \n",
    "    # with open(\"AlphaJong_1.3.1.user.js\", \"r\", encoding=\"utf-8\") as js_file:\n",
    "    #     js_code = js_file.read()\n",
    "    with open(\"web.js\", \"r\", encoding=\"utf-8\") as js_file:\n",
    "        js_code = js_file.read()\n",
    "    \n",
    "    driver.execute_script(js_code)\n",
    "    print(\"JavaScript 已成功嵌入！\")\n",
    "    \n",
    "    # # # 等待資源載入完成\n",
    "    # # WebDriverWait(driver, 10).until(\n",
    "    # #     lambda d: d.execute_script(\"return typeof toggleRun === 'function';\")\n",
    "    # # )\n",
    "\n",
    "    # # # 呼叫函數\n",
    "    # # driver.execute_script(\"toggleRun();\")\n",
    "\n",
    "    # # # 呼叫 JavaScript 函數\n",
    "    # # driver.execute_script(\"toggleRun();\")  # 啟動機器人\n",
    "    # print(\"已啟動機器人。\")"
   ]
  },
  {
   "cell_type": "code",
   "execution_count": 143,
   "metadata": {},
   "outputs": [],
   "source": [
    "def filter_hand_data(data):\n",
    "    filtered_data = {'dora': data['dora'], 'type': data['type'], 'index': data['index']}\n",
    "    return filtered_data\n",
    "def update_hand_data(new_data):\n",
    "    global current_hand\n",
    "    filtered_data = [filter_hand_data(tile) for tile in new_data]\n",
    "    current_hand = filtered_data\n",
    "\n",
    "def visualize_tile(tile):\n",
    "    dora, tile_type, index = tile['dora'], tile['type'], tile['index']\n",
    "    if tile_type == 0:\n",
    "        tile_type = '筒'\n",
    "    elif tile_type == 1:\n",
    "        tile_type = '萬'\n",
    "    elif tile_type == 2:\n",
    "        tile_type = '條'\n",
    "    else:\n",
    "        tile_type = '字'\n",
    "    return f\"{index} {tile_type} {'Dora' if dora else ''}\"\n",
    "\n",
    "def print_current_hand():\n",
    "    global current_hand\n",
    "    for i, tile in enumerate(current_hand):\n",
    "        print(f\"tile {i}: {visualize_tile(tile)}\")"
   ]
  },
  {
   "cell_type": "markdown",
   "metadata": {},
   "source": [
    "## Test\n",
    "\n",
    "這邊可以加入更多測試項目\n",
    "\n",
    "像是按下 's' 開啟一場 bot game，按下 'e' 跳回首頁等等"
   ]
  },
  {
   "cell_type": "code",
   "execution_count": 144,
   "metadata": {},
   "outputs": [
    {
     "name": "stdout",
     "output_type": "stream",
     "text": [
      "Game started\n",
      "JavaScript 已成功嵌入！\n",
      "'s' key pressed, starting bot game.\n",
      "Bot game started\n",
      "'d' key pressed, discard tile.\n",
      "Before discard:\n",
      "tile 0: 6 萬 \n",
      "tile 1: 7 萬 \n",
      "tile 2: 7 萬 \n",
      "tile 3: 8 萬 \n",
      "tile 4: 3 筒 \n",
      "tile 5: 3 筒 \n",
      "tile 6: 5 筒 \n",
      "tile 7: 8 筒 \n",
      "tile 8: 9 筒 \n",
      "tile 9: 1 條 \n",
      "tile 10: 3 條 \n",
      "tile 11: 2 字 \n",
      "tile 12: 7 字 \n",
      "tile 13: 5 萬 Dora\n",
      "丟出的牌: 7 萬 \n",
      "'t' key pressed, Toggle Auto Play.\n",
      "'t' key pressed, Toggle Auto Play.\n",
      "'t' key pressed, Toggle Auto Play.\n",
      "'e' key pressed, leaving bot game.\n",
      "Bot game left\n",
      "'q' key pressed, closing browser.\n",
      "Browser closed.\n"
     ]
    }
   ],
   "source": [
    "\n",
    "def on_press(key):\n",
    "    global auto_running, main_init, driver\n",
    "    hand_data = None\n",
    "    try:\n",
    "        # 基本上執行完之前都會被 block 住\n",
    "        if key.char == 'e':\n",
    "            print(\"'e' key pressed, leaving bot game.\")\n",
    "            leave_bot_game()\n",
    "        elif key.char == 's':\n",
    "            print(\"'s' key pressed, starting bot game.\")\n",
    "            enter_bot_game()\n",
    "        elif key.char == 'q':\n",
    "            print(\"'q' key pressed, closing browser.\")\n",
    "            close_browser()\n",
    "            sys.exit(0)\n",
    "        elif key.char == 'h':\n",
    "            print(\"'h' key pressed, Helloworldh.\")\n",
    "            driver.execute_script(\"helloword();\")\n",
    "        elif key.char == 'g':\n",
    "            print(\"'g' key pressed, get Hand Data.\")\n",
    "            hand_data = driver.execute_script(\"return GetHandData();\")\n",
    "            if hand_data is None:\n",
    "                print(\"手牌資料未返回，請檢查 JavaScript 函數的返回值！\")\n",
    "            else:\n",
    "                update_hand_data(hand_data)\n",
    "        elif key.char == 'p':\n",
    "            print(\"'p' key pressed, print hand data.\")\n",
    "            print_current_hand()\n",
    "            \n",
    "        elif key.char == 'd':\n",
    "            print(\"'d' key pressed, discard tile.\")\n",
    "            # before discard\n",
    "            hand_data0 = driver.execute_script(\"return GetHandData();\")\n",
    "            update_hand_data(hand_data0)\n",
    "            print(\"Before discard:\")\n",
    "            print_current_hand()\n",
    "            result = driver.execute_async_script(\"\"\"\n",
    "                // Selenium 的回調函數\n",
    "                const done = arguments[arguments.length - 1];\n",
    "\n",
    "                // 執行 discard 並處理 Promise\n",
    "                discard(window.ownHand)\n",
    "                    .then(tile => done(tile))        // 返回丟出的牌\n",
    "                    .catch(err => done(err.message)); // 捕獲錯誤並返回錯誤訊息\n",
    "            \"\"\")\n",
    "            print(f\"丟出的牌: {visualize_tile(filter_hand_data(result))}\")\n",
    "        elif key.char == 't':\n",
    "            print(\"'t' key pressed, Toggle Auto Play.\")\n",
    "            if main_init is False:\n",
    "                main_init = True\n",
    "                auto_running = True\n",
    "                driver.execute_script(\"main();\")\n",
    "            else:\n",
    "                driver.execute_script(\"window.Auto_run = !window.Auto_run;\")\n",
    "                auto_running = not auto_running\n",
    "    except AttributeError:\n",
    "        pass\n",
    "\n",
    "start_game()\n",
    "inject_js()\n",
    "with keyboard.Listener(on_press=on_press) as keyboard_listener:\n",
    "    keyboard_listener.join()"
   ]
  }
 ],
 "metadata": {
  "kernelspec": {
   "display_name": "ML",
   "language": "python",
   "name": "python3"
  },
  "language_info": {
   "codemirror_mode": {
    "name": "ipython",
    "version": 3
   },
   "file_extension": ".py",
   "mimetype": "text/x-python",
   "name": "python",
   "nbconvert_exporter": "python",
   "pygments_lexer": "ipython3",
   "version": "3.9.20"
  }
 },
 "nbformat": 4,
 "nbformat_minor": 2
}
