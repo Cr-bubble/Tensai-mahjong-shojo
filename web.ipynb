{
 "cells": [
  {
   "cell_type": "markdown",
   "metadata": {},
   "source": [
    "# 雀魂網頁相關(?)\n",
    "處理 python bot -> 網頁雀魂的各種雜事...\n",
    "\n",
    "(因為這不太重要+我懶所以)\n",
    "座標目前都用我本機量的絕對座標，理論上不同電腦會有偏差\n",
    "如果要量的話可以用下面這段程式碼抓 x,y 座標(但挺麻煩qwq)"
   ]
  },
  {
   "cell_type": "code",
   "execution_count": 1,
   "metadata": {},
   "outputs": [
    {
     "data": {
      "text/plain": [
       "'\\nfrom pynput import mouse, keyboard\\n\\ndef on_click(x, y, button, pressed):\\n    if pressed:  # 滑鼠點擊時打印座標\\n        print(f\"滑鼠點擊座標：x={x}, y={y}\")\\n\\ndef on_press(key):\\n    try:\\n        # 如果按下的鍵是 \\'e\\'，退出程式\\n        if key.char == \\'e\\':\\n            print(\"偵測到按下 \\'e\\' 鍵，結束程式。\")\\n            return False  # 停止鍵盤監聽\\n    except AttributeError:\\n        # 忽略非字母按鍵\\n        pass\\n\\n# 啟動滑鼠監聽器\\nwith mouse.Listener(on_click=on_click) as mouse_listener, keyboard.Listener(on_press=on_press) as keyboard_listener:\\n    print(\"請點擊滑鼠查看座標，按下 \\'e\\' 鍵結束程式。\")\\n    keyboard_listener.join()  # 等待鍵盤監聽器退出\\n    mouse_listener.stop()  # 停止滑鼠監聽器\\n\\n'"
      ]
     },
     "execution_count": 1,
     "metadata": {},
     "output_type": "execute_result"
    }
   ],
   "source": [
    "'''\n",
    "from pynput import mouse, keyboard\n",
    "\n",
    "def on_click(x, y, button, pressed):\n",
    "    if pressed:  # 滑鼠點擊時打印座標\n",
    "        print(f\"滑鼠點擊座標：x={x}, y={y}\")\n",
    "\n",
    "def on_press(key):\n",
    "    try:\n",
    "        # 如果按下的鍵是 'e'，退出程式\n",
    "        if key.char == 'e':\n",
    "            print(\"偵測到按下 'e' 鍵，結束程式。\")\n",
    "            return False  # 停止鍵盤監聽\n",
    "    except AttributeError:\n",
    "        # 忽略非字母按鍵\n",
    "        pass\n",
    "\n",
    "# 啟動滑鼠監聽器\n",
    "with mouse.Listener(on_click=on_click) as mouse_listener, keyboard.Listener(on_press=on_press) as keyboard_listener:\n",
    "    print(\"請點擊滑鼠查看座標，按下 'e' 鍵結束程式。\")\n",
    "    keyboard_listener.join()  # 等待鍵盤監聽器退出\n",
    "    mouse_listener.stop()  # 停止滑鼠監聽器\n",
    "\n",
    "'''"
   ]
  },
  {
   "cell_type": "markdown",
   "metadata": {},
   "source": [
    "### Import & Parameters"
   ]
  },
  {
   "cell_type": "code",
   "execution_count": 2,
   "metadata": {},
   "outputs": [],
   "source": [
    "from selenium import webdriver\n",
    "from pynput import mouse, keyboard\n",
    "from selenium.webdriver.common.action_chains import ActionChains\n",
    "import pyautogui\n",
    "import time\n",
    "import sys\n",
    "from enum import Enum, auto\n",
    "\n",
    "class State(Enum):\n",
    "    Loading = auto()\n",
    "    Home = auto()\n",
    "    InGame = auto()\n",
    "\n",
    "\n",
    "OP_INTERVAL = 1 # click interval\n",
    "current_state = None\n",
    "current_hand = None\n",
    "driver = None\n",
    "main_init = False\n",
    "auto_running = False"
   ]
  },
  {
   "cell_type": "markdown",
   "metadata": {},
   "source": [
    "### Start Game & Auto Login\n",
    "\n",
    "開啟一個 Chrome 瀏覽器連到雀魂並登入測試帳號"
   ]
  },
  {
   "cell_type": "code",
   "execution_count": 3,
   "metadata": {},
   "outputs": [],
   "source": [
    "def start_game():\n",
    "    global current_state, driver\n",
    "    current_state = State.Loading\n",
    "    driver = webdriver.Chrome()\n",
    "    driver.get(\"https://game.maj-soul.com\")\n",
    "    driver.maximize_window()\n",
    "    time.sleep(8)\n",
    "\n",
    "    pyautogui.moveTo(1200, 450)\n",
    "    pyautogui.click()\n",
    "    pyautogui.write(\"paopaodmm@gmail.com\", interval=0.05)\n",
    "    time.sleep(OP_INTERVAL)\n",
    "\n",
    "    pyautogui.moveTo(1200, 520)\n",
    "    pyautogui.click()\n",
    "    pyautogui.write(\"paopao123\", interval=0.05)\n",
    "    time.sleep(OP_INTERVAL)\n",
    "\n",
    "    pyautogui.moveTo(1200, 670)\n",
    "    pyautogui.click()\n",
    "\n",
    "    # wait for the page to load\n",
    "    time.sleep(12)\n",
    "\n",
    "    # close the pop-up\n",
    "    pyautogui.moveTo(1640, 370)\n",
    "    pyautogui.click()\n",
    "    time.sleep(OP_INTERVAL)\n",
    "    current_state = State.Home\n",
    "    print(\"Game started\")"
   ]
  },
  {
   "cell_type": "markdown",
   "metadata": {},
   "source": [
    "### Close browser"
   ]
  },
  {
   "cell_type": "code",
   "execution_count": 4,
   "metadata": {},
   "outputs": [],
   "source": [
    "def close_browser():\n",
    "    global driver\n",
    "    driver.quit()\n",
    "    driver = None\n",
    "    print(\"Browser closed.\")"
   ]
  },
  {
   "cell_type": "markdown",
   "metadata": {},
   "source": [
    "### 自動創機器人房間\n",
    "\n",
    "必須在首頁才能呼叫"
   ]
  },
  {
   "cell_type": "code",
   "execution_count": 5,
   "metadata": {},
   "outputs": [],
   "source": [
    "def enter_bot_game():\n",
    "    global current_state\n",
    "    if current_state != State.Home:\n",
    "        print(\"Not in home state, Abort\")\n",
    "        return\n",
    "    # create bot room\n",
    "    pyautogui.moveTo(1280, 750)\n",
    "    pyautogui.click()\n",
    "    time.sleep(OP_INTERVAL)\n",
    "\n",
    "    pyautogui.moveTo(1280, 500)\n",
    "    pyautogui.click()\n",
    "    time.sleep(OP_INTERVAL)\n",
    "\n",
    "    pyautogui.moveTo(965, 920)\n",
    "    pyautogui.click()\n",
    "    time.sleep(OP_INTERVAL)\n",
    "\n",
    "    # add 3 bots\n",
    "    pyautogui.moveTo(700, 670)\n",
    "    pyautogui.click()\n",
    "    time.sleep(OP_INTERVAL)\n",
    "\n",
    "    pyautogui.moveTo(1000, 670)\n",
    "    pyautogui.click()\n",
    "    time.sleep(OP_INTERVAL)\n",
    "\n",
    "    pyautogui.moveTo(1300, 670)\n",
    "    pyautogui.click()\n",
    "    time.sleep(OP_INTERVAL)\n",
    "\n",
    "    # start the game\n",
    "    pyautogui.moveTo(1080, 950)\n",
    "    pyautogui.click()\n",
    "    time.sleep(OP_INTERVAL)\n",
    "\n",
    "    # wait for the game to start\n",
    "    time.sleep(15)\n",
    "    current_state = State.InGame\n",
    "    print(\"Bot game started\")"
   ]
  },
  {
   "cell_type": "markdown",
   "metadata": {},
   "source": [
    "### Leave game"
   ]
  },
  {
   "cell_type": "code",
   "execution_count": 6,
   "metadata": {},
   "outputs": [],
   "source": [
    "def leave_bot_game():\n",
    "    global current_state\n",
    "    if current_state != State.InGame:\n",
    "        print(\"Not in game state, Abort\")\n",
    "        return\n",
    "    \n",
    "    pyautogui.moveTo(1645, 235)\n",
    "    pyautogui.click()\n",
    "    time.sleep(OP_INTERVAL)\n",
    "\n",
    "    pyautogui.moveTo(825, 710)\n",
    "    pyautogui.click()\n",
    "    time.sleep(OP_INTERVAL)\n",
    "    \n",
    "    # Return to the main page time\n",
    "    time.sleep(5)\n",
    "    current_state = State.Home\n",
    "    print(\"Bot game left\")"
   ]
  },
  {
   "cell_type": "markdown",
   "metadata": {},
   "source": [
    "### 嵌入 js code\n",
    "github上的code ><"
   ]
  },
  {
   "cell_type": "code",
   "execution_count": 7,
   "metadata": {},
   "outputs": [],
   "source": [
    "from selenium.webdriver.support.ui import WebDriverWait\n",
    "from selenium.webdriver.support import expected_conditions as EC\n",
    "\n",
    "\n",
    "\n",
    "def inject_js():\n",
    "    global driver\n",
    "    \n",
    "    # with open(\"AlphaJong_1.3.1.user.js\", \"r\", encoding=\"utf-8\") as js_file:\n",
    "    #     js_code = js_file.read()\n",
    "    with open(\"web.js\", \"r\", encoding=\"utf-8\") as js_file:\n",
    "        js_code = js_file.read()\n",
    "    \n",
    "    driver.execute_script(js_code)\n",
    "    print(\"JavaScript 已成功嵌入！\")\n",
    "    \n",
    "    # # # 等待資源載入完成\n",
    "    # # WebDriverWait(driver, 10).until(\n",
    "    # #     lambda d: d.execute_script(\"return typeof toggleRun === 'function';\")\n",
    "    # # )\n",
    "\n",
    "    # # # 呼叫函數\n",
    "    # # driver.execute_script(\"toggleRun();\")\n",
    "\n",
    "    # # # 呼叫 JavaScript 函數\n",
    "    # # driver.execute_script(\"toggleRun();\")  # 啟動機器人\n",
    "    # print(\"已啟動機器人。\")"
   ]
  },
  {
   "cell_type": "code",
   "execution_count": 8,
   "metadata": {},
   "outputs": [],
   "source": [
    "def filter_hand_data(data):\n",
    "    filtered_data = {'dora': data['dora'], 'type': data['type'], 'index': data['index']}\n",
    "    return filtered_data\n",
    "def update_hand_data(new_data):\n",
    "    global current_hand\n",
    "    filtered_data = [filter_hand_data(tile) for tile in new_data]\n",
    "    current_hand = filtered_data\n",
    "\n",
    "def visualize_tile(tile):\n",
    "    dora, tile_type, index = tile['dora'], tile['type'], tile['index']\n",
    "    if tile_type == 0:\n",
    "        tile_type = '筒'\n",
    "    elif tile_type == 1:\n",
    "        tile_type = '萬'\n",
    "    elif tile_type == 2:\n",
    "        tile_type = '條'\n",
    "    else:\n",
    "        tile_type = '字'\n",
    "    return f\"{index} {tile_type} {'Dora' if dora else ''}\"\n",
    "\n",
    "def print_current_hand():\n",
    "    global current_hand\n",
    "    for i, tile in enumerate(current_hand):\n",
    "        print(f\"tile {i}: {visualize_tile(tile)}\")"
   ]
  },
  {
   "cell_type": "markdown",
   "metadata": {},
   "source": [
    "## Test\n",
    "\n",
    "這邊可以加入更多測試項目\n",
    "\n",
    "像是按下 's' 開啟一場 bot game，按下 'e' 跳回首頁等等"
   ]
  },
  {
   "cell_type": "code",
   "execution_count": 14,
   "metadata": {},
   "outputs": [
    {
     "name": "stdout",
     "output_type": "stream",
     "text": [
      "Game started\n",
      "JavaScript 已成功嵌入！\n",
      "'t' key pressed, Toggle Auto Play.\n"
     ]
    },
    {
     "name": "stderr",
     "output_type": "stream",
     "text": [
      "Unhandled exception in listener callback\n",
      "Traceback (most recent call last):\n",
      "  File \"c:\\Users\\user\\AppData\\Local\\Programs\\Python\\Python310\\lib\\site-packages\\pynput\\_util\\__init__.py\", line 229, in inner\n",
      "    return f(self, *args, **kwargs)\n",
      "  File \"c:\\Users\\user\\AppData\\Local\\Programs\\Python\\Python310\\lib\\site-packages\\pynput\\keyboard\\_win32.py\", line 316, in _process\n",
      "    self.on_press(key)\n",
      "  File \"c:\\Users\\user\\AppData\\Local\\Programs\\Python\\Python310\\lib\\site-packages\\pynput\\_util\\__init__.py\", line 145, in inner\n",
      "    if f(*args) is False:\n",
      "  File \"C:\\Users\\user\\AppData\\Local\\Temp\\ipykernel_6508\\227345295.py\", line 33, in on_press\n",
      "    hand_data0 = driver.execute_script(\"return GetHandData();\")\n",
      "  File \"c:\\Users\\user\\AppData\\Local\\Programs\\Python\\Python310\\lib\\site-packages\\selenium\\webdriver\\remote\\webdriver.py\", line 444, in execute_script\n",
      "    return self.execute(command, {\"script\": script, \"args\": converted_args})[\"value\"]\n",
      "  File \"c:\\Users\\user\\AppData\\Local\\Programs\\Python\\Python310\\lib\\site-packages\\selenium\\webdriver\\remote\\webdriver.py\", line 384, in execute\n",
      "    self.error_handler.check_response(response)\n",
      "  File \"c:\\Users\\user\\AppData\\Local\\Programs\\Python\\Python310\\lib\\site-packages\\selenium\\webdriver\\remote\\errorhandler.py\", line 232, in check_response\n",
      "    raise exception_class(message, screen, stacktrace)\n",
      "selenium.common.exceptions.NoSuchWindowException: Message: no such window: target window already closed\n",
      "from unknown error: web view not found\n",
      "  (Session info: chrome=131.0.6778.86)\n",
      "Stacktrace:\n",
      "\tGetHandleVerifier [0x00007FF6025D6CB5+28821]\n",
      "\t(No symbol) [0x00007FF602543840]\n",
      "\t(No symbol) [0x00007FF6023E578A]\n",
      "\t(No symbol) [0x00007FF6023BF4F5]\n",
      "\t(No symbol) [0x00007FF602466247]\n",
      "\t(No symbol) [0x00007FF60247ECE2]\n",
      "\t(No symbol) [0x00007FF60245F0A3]\n",
      "\t(No symbol) [0x00007FF60242A778]\n",
      "\t(No symbol) [0x00007FF60242B8E1]\n",
      "\tGetHandleVerifier [0x00007FF60290FCAD+3408013]\n",
      "\tGetHandleVerifier [0x00007FF60292741F+3504127]\n",
      "\tGetHandleVerifier [0x00007FF60291B5FD+3455453]\n",
      "\tGetHandleVerifier [0x00007FF60269BDBB+835995]\n",
      "\t(No symbol) [0x00007FF60254EB5F]\n",
      "\t(No symbol) [0x00007FF60254A814]\n",
      "\t(No symbol) [0x00007FF60254A9AD]\n",
      "\t(No symbol) [0x00007FF60253A199]\n",
      "\tBaseThreadInitThunk [0x00007FFAF826259D+29]\n",
      "\tRtlUserThreadStart [0x00007FFAF9D0AF38+40]\n",
      "\n"
     ]
    },
    {
     "name": "stdout",
     "output_type": "stream",
     "text": [
      "'d' key pressed, discard tile.\n"
     ]
    },
    {
     "ename": "NoSuchWindowException",
     "evalue": "Message: no such window: target window already closed\nfrom unknown error: web view not found\n  (Session info: chrome=131.0.6778.86)\nStacktrace:\n\tGetHandleVerifier [0x00007FF6025D6CB5+28821]\n\t(No symbol) [0x00007FF602543840]\n\t(No symbol) [0x00007FF6023E578A]\n\t(No symbol) [0x00007FF6023BF4F5]\n\t(No symbol) [0x00007FF602466247]\n\t(No symbol) [0x00007FF60247ECE2]\n\t(No symbol) [0x00007FF60245F0A3]\n\t(No symbol) [0x00007FF60242A778]\n\t(No symbol) [0x00007FF60242B8E1]\n\tGetHandleVerifier [0x00007FF60290FCAD+3408013]\n\tGetHandleVerifier [0x00007FF60292741F+3504127]\n\tGetHandleVerifier [0x00007FF60291B5FD+3455453]\n\tGetHandleVerifier [0x00007FF60269BDBB+835995]\n\t(No symbol) [0x00007FF60254EB5F]\n\t(No symbol) [0x00007FF60254A814]\n\t(No symbol) [0x00007FF60254A9AD]\n\t(No symbol) [0x00007FF60253A199]\n\tBaseThreadInitThunk [0x00007FFAF826259D+29]\n\tRtlUserThreadStart [0x00007FFAF9D0AF38+40]\n",
     "output_type": "error",
     "traceback": [
      "\u001b[1;31m---------------------------------------------------------------------------\u001b[0m",
      "\u001b[1;31mNoSuchWindowException\u001b[0m                     Traceback (most recent call last)",
      "Input \u001b[1;32mIn [14]\u001b[0m, in \u001b[0;36m<cell line: 61>\u001b[1;34m()\u001b[0m\n\u001b[0;32m     60\u001b[0m inject_js()\n\u001b[0;32m     61\u001b[0m \u001b[38;5;28;01mwith\u001b[39;00m keyboard\u001b[38;5;241m.\u001b[39mListener(on_press\u001b[38;5;241m=\u001b[39mon_press) \u001b[38;5;28;01mas\u001b[39;00m keyboard_listener:\n\u001b[1;32m---> 62\u001b[0m     \u001b[43mkeyboard_listener\u001b[49m\u001b[38;5;241;43m.\u001b[39;49m\u001b[43mjoin\u001b[49m\u001b[43m(\u001b[49m\u001b[43m)\u001b[49m\n",
      "File \u001b[1;32mc:\\Users\\user\\AppData\\Local\\Programs\\Python\\Python310\\lib\\site-packages\\pynput\\_util\\__init__.py:281\u001b[0m, in \u001b[0;36mAbstractListener.join\u001b[1;34m(self, timeout, *args)\u001b[0m\n\u001b[0;32m    278\u001b[0m \u001b[38;5;28;01mtry\u001b[39;00m:\n\u001b[0;32m    279\u001b[0m     exc_type, exc_value, exc_traceback \u001b[38;5;241m=\u001b[39m \u001b[38;5;28mself\u001b[39m\u001b[38;5;241m.\u001b[39m_queue\u001b[38;5;241m.\u001b[39mget(\n\u001b[0;32m    280\u001b[0m         timeout\u001b[38;5;241m=\u001b[39mtimeout)\n\u001b[1;32m--> 281\u001b[0m     \u001b[43msix\u001b[49m\u001b[38;5;241;43m.\u001b[39;49m\u001b[43mreraise\u001b[49m\u001b[43m(\u001b[49m\u001b[43mexc_type\u001b[49m\u001b[43m,\u001b[49m\u001b[43m \u001b[49m\u001b[43mexc_value\u001b[49m\u001b[43m,\u001b[49m\u001b[43m \u001b[49m\u001b[43mexc_traceback\u001b[49m\u001b[43m)\u001b[49m\n\u001b[0;32m    282\u001b[0m \u001b[38;5;28;01mexcept\u001b[39;00m queue\u001b[38;5;241m.\u001b[39mEmpty:\n\u001b[0;32m    283\u001b[0m     \u001b[38;5;28;01mpass\u001b[39;00m\n",
      "File \u001b[1;32mc:\\Users\\user\\AppData\\Local\\Programs\\Python\\Python310\\lib\\site-packages\\six.py:718\u001b[0m, in \u001b[0;36mreraise\u001b[1;34m(tp, value, tb)\u001b[0m\n\u001b[0;32m    716\u001b[0m         value \u001b[38;5;241m=\u001b[39m tp()\n\u001b[0;32m    717\u001b[0m     \u001b[38;5;28;01mif\u001b[39;00m value\u001b[38;5;241m.\u001b[39m__traceback__ \u001b[38;5;129;01mis\u001b[39;00m \u001b[38;5;129;01mnot\u001b[39;00m tb:\n\u001b[1;32m--> 718\u001b[0m         \u001b[38;5;28;01mraise\u001b[39;00m value\u001b[38;5;241m.\u001b[39mwith_traceback(tb)\n\u001b[0;32m    719\u001b[0m     \u001b[38;5;28;01mraise\u001b[39;00m value\n\u001b[0;32m    720\u001b[0m \u001b[38;5;28;01mfinally\u001b[39;00m:\n",
      "File \u001b[1;32mc:\\Users\\user\\AppData\\Local\\Programs\\Python\\Python310\\lib\\site-packages\\pynput\\_util\\__init__.py:229\u001b[0m, in \u001b[0;36mAbstractListener._emitter.<locals>.inner\u001b[1;34m(self, *args, **kwargs)\u001b[0m\n\u001b[0;32m    225\u001b[0m \u001b[38;5;129m@functools\u001b[39m\u001b[38;5;241m.\u001b[39mwraps(f)\n\u001b[0;32m    226\u001b[0m \u001b[38;5;28;01mdef\u001b[39;00m \u001b[38;5;21minner\u001b[39m(\u001b[38;5;28mself\u001b[39m, \u001b[38;5;241m*\u001b[39margs, \u001b[38;5;241m*\u001b[39m\u001b[38;5;241m*\u001b[39mkwargs):\n\u001b[0;32m    227\u001b[0m     \u001b[38;5;66;03m# pylint: disable=W0702; we want to catch all exception\u001b[39;00m\n\u001b[0;32m    228\u001b[0m     \u001b[38;5;28;01mtry\u001b[39;00m:\n\u001b[1;32m--> 229\u001b[0m         \u001b[38;5;28;01mreturn\u001b[39;00m f(\u001b[38;5;28mself\u001b[39m, \u001b[38;5;241m*\u001b[39margs, \u001b[38;5;241m*\u001b[39m\u001b[38;5;241m*\u001b[39mkwargs)\n\u001b[0;32m    230\u001b[0m     \u001b[38;5;28;01mexcept\u001b[39;00m \u001b[38;5;167;01mException\u001b[39;00m \u001b[38;5;28;01mas\u001b[39;00m e:\n\u001b[0;32m    231\u001b[0m         \u001b[38;5;28;01mif\u001b[39;00m \u001b[38;5;129;01mnot\u001b[39;00m \u001b[38;5;28misinstance\u001b[39m(e, \u001b[38;5;28mself\u001b[39m\u001b[38;5;241m.\u001b[39m_HANDLED_EXCEPTIONS):\n",
      "File \u001b[1;32mc:\\Users\\user\\AppData\\Local\\Programs\\Python\\Python310\\lib\\site-packages\\pynput\\keyboard\\_win32.py:316\u001b[0m, in \u001b[0;36mListener._process\u001b[1;34m(self, wparam, lparam)\u001b[0m\n\u001b[0;32m    313\u001b[0m         key \u001b[38;5;241m=\u001b[39m \u001b[38;5;28;01mNone\u001b[39;00m\n\u001b[0;32m    315\u001b[0m \u001b[38;5;28;01mif\u001b[39;00m msg \u001b[38;5;129;01min\u001b[39;00m \u001b[38;5;28mself\u001b[39m\u001b[38;5;241m.\u001b[39m_PRESS_MESSAGES:\n\u001b[1;32m--> 316\u001b[0m     \u001b[38;5;28;43mself\u001b[39;49m\u001b[38;5;241;43m.\u001b[39;49m\u001b[43mon_press\u001b[49m\u001b[43m(\u001b[49m\u001b[43mkey\u001b[49m\u001b[43m)\u001b[49m\n\u001b[0;32m    318\u001b[0m \u001b[38;5;28;01melif\u001b[39;00m msg \u001b[38;5;129;01min\u001b[39;00m \u001b[38;5;28mself\u001b[39m\u001b[38;5;241m.\u001b[39m_RELEASE_MESSAGES:\n\u001b[0;32m    319\u001b[0m     \u001b[38;5;28mself\u001b[39m\u001b[38;5;241m.\u001b[39mon_release(key)\n",
      "File \u001b[1;32mc:\\Users\\user\\AppData\\Local\\Programs\\Python\\Python310\\lib\\site-packages\\pynput\\_util\\__init__.py:145\u001b[0m, in \u001b[0;36mAbstractListener.__init__.<locals>.wrapper.<locals>.inner\u001b[1;34m(*args)\u001b[0m\n\u001b[0;32m    144\u001b[0m \u001b[38;5;28;01mdef\u001b[39;00m \u001b[38;5;21minner\u001b[39m(\u001b[38;5;241m*\u001b[39margs):\n\u001b[1;32m--> 145\u001b[0m     \u001b[38;5;28;01mif\u001b[39;00m \u001b[43mf\u001b[49m\u001b[43m(\u001b[49m\u001b[38;5;241;43m*\u001b[39;49m\u001b[43margs\u001b[49m\u001b[43m)\u001b[49m \u001b[38;5;129;01mis\u001b[39;00m \u001b[38;5;28;01mFalse\u001b[39;00m:\n\u001b[0;32m    146\u001b[0m         \u001b[38;5;28;01mraise\u001b[39;00m \u001b[38;5;28mself\u001b[39m\u001b[38;5;241m.\u001b[39mStopException()\n",
      "Input \u001b[1;32mIn [14]\u001b[0m, in \u001b[0;36mon_press\u001b[1;34m(key)\u001b[0m\n\u001b[0;32m     31\u001b[0m \u001b[38;5;28mprint\u001b[39m(\u001b[38;5;124m\"\u001b[39m\u001b[38;5;124m'\u001b[39m\u001b[38;5;124md\u001b[39m\u001b[38;5;124m'\u001b[39m\u001b[38;5;124m key pressed, discard tile.\u001b[39m\u001b[38;5;124m\"\u001b[39m)\n\u001b[0;32m     32\u001b[0m \u001b[38;5;66;03m# before discard\u001b[39;00m\n\u001b[1;32m---> 33\u001b[0m hand_data0 \u001b[38;5;241m=\u001b[39m \u001b[43mdriver\u001b[49m\u001b[38;5;241;43m.\u001b[39;49m\u001b[43mexecute_script\u001b[49m\u001b[43m(\u001b[49m\u001b[38;5;124;43m\"\u001b[39;49m\u001b[38;5;124;43mreturn GetHandData();\u001b[39;49m\u001b[38;5;124;43m\"\u001b[39;49m\u001b[43m)\u001b[49m\n\u001b[0;32m     34\u001b[0m update_hand_data(hand_data0)\n\u001b[0;32m     35\u001b[0m \u001b[38;5;28mprint\u001b[39m(\u001b[38;5;124m\"\u001b[39m\u001b[38;5;124mBefore discard:\u001b[39m\u001b[38;5;124m\"\u001b[39m)\n",
      "File \u001b[1;32mc:\\Users\\user\\AppData\\Local\\Programs\\Python\\Python310\\lib\\site-packages\\selenium\\webdriver\\remote\\webdriver.py:444\u001b[0m, in \u001b[0;36mWebDriver.execute_script\u001b[1;34m(self, script, *args)\u001b[0m\n\u001b[0;32m    441\u001b[0m converted_args \u001b[38;5;241m=\u001b[39m \u001b[38;5;28mlist\u001b[39m(args)\n\u001b[0;32m    442\u001b[0m command \u001b[38;5;241m=\u001b[39m Command\u001b[38;5;241m.\u001b[39mW3C_EXECUTE_SCRIPT\n\u001b[1;32m--> 444\u001b[0m \u001b[38;5;28;01mreturn\u001b[39;00m \u001b[38;5;28;43mself\u001b[39;49m\u001b[38;5;241;43m.\u001b[39;49m\u001b[43mexecute\u001b[49m\u001b[43m(\u001b[49m\u001b[43mcommand\u001b[49m\u001b[43m,\u001b[49m\u001b[43m \u001b[49m\u001b[43m{\u001b[49m\u001b[38;5;124;43m\"\u001b[39;49m\u001b[38;5;124;43mscript\u001b[39;49m\u001b[38;5;124;43m\"\u001b[39;49m\u001b[43m:\u001b[49m\u001b[43m \u001b[49m\u001b[43mscript\u001b[49m\u001b[43m,\u001b[49m\u001b[43m \u001b[49m\u001b[38;5;124;43m\"\u001b[39;49m\u001b[38;5;124;43margs\u001b[39;49m\u001b[38;5;124;43m\"\u001b[39;49m\u001b[43m:\u001b[49m\u001b[43m \u001b[49m\u001b[43mconverted_args\u001b[49m\u001b[43m}\u001b[49m\u001b[43m)\u001b[49m[\u001b[38;5;124m\"\u001b[39m\u001b[38;5;124mvalue\u001b[39m\u001b[38;5;124m\"\u001b[39m]\n",
      "File \u001b[1;32mc:\\Users\\user\\AppData\\Local\\Programs\\Python\\Python310\\lib\\site-packages\\selenium\\webdriver\\remote\\webdriver.py:384\u001b[0m, in \u001b[0;36mWebDriver.execute\u001b[1;34m(self, driver_command, params)\u001b[0m\n\u001b[0;32m    382\u001b[0m response \u001b[38;5;241m=\u001b[39m \u001b[38;5;28mself\u001b[39m\u001b[38;5;241m.\u001b[39mcommand_executor\u001b[38;5;241m.\u001b[39mexecute(driver_command, params)\n\u001b[0;32m    383\u001b[0m \u001b[38;5;28;01mif\u001b[39;00m response:\n\u001b[1;32m--> 384\u001b[0m     \u001b[38;5;28;43mself\u001b[39;49m\u001b[38;5;241;43m.\u001b[39;49m\u001b[43merror_handler\u001b[49m\u001b[38;5;241;43m.\u001b[39;49m\u001b[43mcheck_response\u001b[49m\u001b[43m(\u001b[49m\u001b[43mresponse\u001b[49m\u001b[43m)\u001b[49m\n\u001b[0;32m    385\u001b[0m     response[\u001b[38;5;124m\"\u001b[39m\u001b[38;5;124mvalue\u001b[39m\u001b[38;5;124m\"\u001b[39m] \u001b[38;5;241m=\u001b[39m \u001b[38;5;28mself\u001b[39m\u001b[38;5;241m.\u001b[39m_unwrap_value(response\u001b[38;5;241m.\u001b[39mget(\u001b[38;5;124m\"\u001b[39m\u001b[38;5;124mvalue\u001b[39m\u001b[38;5;124m\"\u001b[39m, \u001b[38;5;28;01mNone\u001b[39;00m))\n\u001b[0;32m    386\u001b[0m     \u001b[38;5;28;01mreturn\u001b[39;00m response\n",
      "File \u001b[1;32mc:\\Users\\user\\AppData\\Local\\Programs\\Python\\Python310\\lib\\site-packages\\selenium\\webdriver\\remote\\errorhandler.py:232\u001b[0m, in \u001b[0;36mErrorHandler.check_response\u001b[1;34m(self, response)\u001b[0m\n\u001b[0;32m    230\u001b[0m         alert_text \u001b[38;5;241m=\u001b[39m value[\u001b[38;5;124m\"\u001b[39m\u001b[38;5;124malert\u001b[39m\u001b[38;5;124m\"\u001b[39m]\u001b[38;5;241m.\u001b[39mget(\u001b[38;5;124m\"\u001b[39m\u001b[38;5;124mtext\u001b[39m\u001b[38;5;124m\"\u001b[39m)\n\u001b[0;32m    231\u001b[0m     \u001b[38;5;28;01mraise\u001b[39;00m exception_class(message, screen, stacktrace, alert_text)  \u001b[38;5;66;03m# type: ignore[call-arg]  # mypy is not smart enough here\u001b[39;00m\n\u001b[1;32m--> 232\u001b[0m \u001b[38;5;28;01mraise\u001b[39;00m exception_class(message, screen, stacktrace)\n",
      "\u001b[1;31mNoSuchWindowException\u001b[0m: Message: no such window: target window already closed\nfrom unknown error: web view not found\n  (Session info: chrome=131.0.6778.86)\nStacktrace:\n\tGetHandleVerifier [0x00007FF6025D6CB5+28821]\n\t(No symbol) [0x00007FF602543840]\n\t(No symbol) [0x00007FF6023E578A]\n\t(No symbol) [0x00007FF6023BF4F5]\n\t(No symbol) [0x00007FF602466247]\n\t(No symbol) [0x00007FF60247ECE2]\n\t(No symbol) [0x00007FF60245F0A3]\n\t(No symbol) [0x00007FF60242A778]\n\t(No symbol) [0x00007FF60242B8E1]\n\tGetHandleVerifier [0x00007FF60290FCAD+3408013]\n\tGetHandleVerifier [0x00007FF60292741F+3504127]\n\tGetHandleVerifier [0x00007FF60291B5FD+3455453]\n\tGetHandleVerifier [0x00007FF60269BDBB+835995]\n\t(No symbol) [0x00007FF60254EB5F]\n\t(No symbol) [0x00007FF60254A814]\n\t(No symbol) [0x00007FF60254A9AD]\n\t(No symbol) [0x00007FF60253A199]\n\tBaseThreadInitThunk [0x00007FFAF826259D+29]\n\tRtlUserThreadStart [0x00007FFAF9D0AF38+40]\n"
     ]
    }
   ],
   "source": [
    "\n",
    "def on_press(key):\n",
    "    global auto_running, main_init, driver\n",
    "    hand_data = None\n",
    "    try:\n",
    "        # 基本上執行完之前都會被 block 住\n",
    "        if key.char == 'e':\n",
    "            print(\"'e' key pressed, leaving bot game.\")\n",
    "            leave_bot_game()\n",
    "        elif key.char == 's':\n",
    "            print(\"'s' key pressed, starting bot game.\")\n",
    "            enter_bot_game()\n",
    "        elif key.char == 'q':\n",
    "            print(\"'q' key pressed, closing browser.\")\n",
    "            close_browser()\n",
    "            sys.exit(0)\n",
    "        elif key.char == 'h':\n",
    "            print(\"'h' key pressed, Helloworldh.\")\n",
    "            driver.execute_script(\"helloword();\")\n",
    "        elif key.char == 'g':\n",
    "            print(\"'g' key pressed, get Hand Data.\")\n",
    "            hand_data = driver.execute_script(\"return GetHandData();\")\n",
    "            if hand_data is None:\n",
    "                print(\"手牌資料未返回，請檢查 JavaScript 函數的返回值！\")\n",
    "            else:\n",
    "                update_hand_data(hand_data)\n",
    "        elif key.char == 'p':\n",
    "            print(\"'p' key pressed, print hand data.\")\n",
    "            print_current_hand()\n",
    "            \n",
    "        elif key.char == 'd':\n",
    "            print(\"'d' key pressed, discard tile.\")\n",
    "            # before discard\n",
    "            hand_data0 = driver.execute_script(\"return GetHandData();\")\n",
    "            update_hand_data(hand_data0)\n",
    "            print(\"Before discard:\")\n",
    "            print_current_hand()\n",
    "            result = driver.execute_async_script(\"\"\"\n",
    "                // Selenium 的回調函數\n",
    "                const done = arguments[arguments.length - 1];\n",
    "\n",
    "                // 執行 discard 並處理 Promise\n",
    "                discard(window.ownHand)\n",
    "                    .then(tile => done(tile))        // 返回丟出的牌\n",
    "                    .catch(err => done(err.message)); // 捕獲錯誤並返回錯誤訊息\n",
    "            \"\"\")\n",
    "            print(f\"丟出的牌: {visualize_tile(filter_hand_data(result))}\")\n",
    "        elif key.char == 't':\n",
    "            print(\"'t' key pressed, Toggle Auto Play.\")\n",
    "            if main_init is False:\n",
    "                main_init = True\n",
    "                auto_running = True\n",
    "                driver.execute_script(\"main();\")\n",
    "            else:\n",
    "                driver.execute_script(\"window.Auto_run = !window.Auto_run;\")\n",
    "                auto_running = not auto_running\n",
    "    except AttributeError:\n",
    "        pass\n",
    "\n",
    "start_game()\n",
    "inject_js()\n",
    "with keyboard.Listener(on_press=on_press) as keyboard_listener:\n",
    "    keyboard_listener.join()"
   ]
  }
 ],
 "metadata": {
  "kernelspec": {
   "display_name": "Python 3",
   "language": "python",
   "name": "python3"
  },
  "language_info": {
   "codemirror_mode": {
    "name": "ipython",
    "version": 3
   },
   "file_extension": ".py",
   "mimetype": "text/x-python",
   "name": "python",
   "nbconvert_exporter": "python",
   "pygments_lexer": "ipython3",
   "version": "3.10.4"
  }
 },
 "nbformat": 4,
 "nbformat_minor": 2
}
