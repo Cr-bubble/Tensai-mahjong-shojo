{
 "cells": [
  {
   "cell_type": "code",
   "execution_count": 1,
   "metadata": {},
   "outputs": [],
   "source": [
    "#import\n",
    "\n",
    "import tensorflow as tf\n",
    "from tensorflow.keras.models import Sequential\n",
    "from tensorflow.keras.layers import Dense\n",
    "from tensorflow.keras.models import load_model\n",
    "import numpy as np\n",
    "import pandas as pd\n",
    "import os"
   ]
  },
  {
   "cell_type": "code",
   "execution_count": 45,
   "metadata": {},
   "outputs": [],
   "source": [
    "#load model if already trained\n",
    "\n",
    "model = load_model('NN_v1')"
   ]
  },
  {
   "cell_type": "code",
   "execution_count": null,
   "metadata": {},
   "outputs": [],
   "source": [
    "#create a new model\n",
    "\n",
    "model = Sequential([\n",
    "    Dense(512, activation='relu', input_shape=(34,)),  # 隱藏層 1\n",
    "    Dense(256, activation='relu'),                   # 隱藏層 2\n",
    "    Dense(128, activation='relu'),                   # 隱藏層 2\n",
    "    Dense(64, activation='relu'),                   # 隱藏層 3\n",
    "    Dense(34, activation='softmax')                 # 輸出層\n",
    "])\n",
    "\n",
    "# 編譯模型\n",
    "model.compile(\n",
    "    optimizer='adam',              # 選擇 Adam 優化器\n",
    "    loss='categorical_crossentropy', # 適用於多分類問題\n",
    "    metrics=['accuracy']\n",
    ")"
   ]
  },
  {
   "cell_type": "code",
   "execution_count": 43,
   "metadata": {},
   "outputs": [],
   "source": [
    "#save train data\n",
    "\n",
    "# 載入數據\n",
    "folder_path = 'dataset_extracted'\n",
    "\n",
    "# 創建一個空的 DataFrame，準備存放所有合併的數據\n",
    "all_data = pd.DataFrame()\n",
    "\n",
    "dataframes = []\n",
    "cnt = 0\n",
    "for file in os.listdir(folder_path):\n",
    "    if file.endswith('.csv'):\n",
    "        file_path = os.path.join(folder_path, file)\n",
    "        data = pd.read_csv(file_path)\n",
    "        dataframes.append(data)  # 將每個 DataFrame 添加到列表中\n",
    "        cnt+=1\n",
    "        if(cnt > 5000):\n",
    "            break\n",
    "\n",
    "# 一次性合併所有 DataFrame\n",
    "all_data = pd.concat(dataframes, ignore_index=True)\n",
    " # 資料預處理\n",
    "x_train = all_data.iloc[:, 68:102].values  # 使用 iloc 获取特定列的值\n",
    "y_train = all_data.iloc[:, -1].values  # 获取最后一列作为标签\n",
    "np.save('x_train.npy', x_train)\n",
    "np.save('y_train.npy', y_train)"
   ]
  },
  {
   "cell_type": "code",
   "execution_count": null,
   "metadata": {},
   "outputs": [],
   "source": [
    "#load train data and train\n",
    "\n",
    "x_train = np.load('x_train.npy')\n",
    "y_train = np.load('y_train.npy')\n",
    "\n",
    "# 将标签转为 One-Hot 编码\n",
    "y_train_one_hot = tf.keras.utils.to_categorical(y_train)\n",
    "\n",
    "# 訓練模型\n",
    "model.fit(\n",
    "    x_train, y_train_one_hot,\n",
    "    epochs=50,      # 訓練 20 回合\n",
    "    batch_size=64,  # 每批數據大小\n",
    "    validation_split=0.2  # 20% 用於驗證\n",
    ")\n",
    "\n"
   ]
  },
  {
   "cell_type": "code",
   "execution_count": null,
   "metadata": {},
   "outputs": [],
   "source": [
    "#save model\n",
    "model.save('NN_v1')"
   ]
  },
  {
   "cell_type": "code",
   "execution_count": 38,
   "metadata": {},
   "outputs": [],
   "source": [
    "#確保輸出只有輸入\n",
    "\n",
    "def filter_prediction(input_tiles, prediction):\n",
    "    \"\"\"\n",
    "    过滤预测结果，确保输出的牌在玩家手牌内。\n",
    "    \n",
    "    Args:\n",
    "        input_tiles (np.array): 玩家手牌 (长度为34的向量)\n",
    "        prediction (np.array): 模型的输出 (长度为34的概率向量)\n",
    "    \n",
    "    Returns:\n",
    "        int: 经过过滤后的输出牌索引\n",
    "    \"\"\"\n",
    "    legal_tiles = np.where(input_tiles > 0)[1]  # 找到手牌中合法牌的索引\n",
    "    prediction = prediction.reshape(34,)\n",
    "    filtered_prediction = np.zeros_like(prediction)\n",
    "    \n",
    "    #print(f\"合法牌索引：{legal_tiles}\")\n",
    "    #print(f\"原始预测值：{prediction}\")\n",
    "    \n",
    "    filtered_prediction[legal_tiles] = prediction[legal_tiles]\n",
    "    \n",
    "    #print(f\"过滤后的预测值：{filtered_prediction}\")\n",
    "    \n",
    "    return np.argmax(filtered_prediction)\n"
   ]
  },
  {
   "cell_type": "code",
   "execution_count": 36,
   "metadata": {},
   "outputs": [],
   "source": [
    "#棄牌模型\n",
    "\n",
    "def discard(hands_input):\n",
    "    # 初始化手牌\n",
    "    hands = np.zeros(34)  # 假设有 34 种牌\n",
    "\n",
    "    # 根据 hands_input 中的牌来填充 hands 数组\n",
    "    for tile in hands_input:\n",
    "        hands[tile['type'] * 9 + tile['index'] - 1] += 1\n",
    "\n",
    "    # 让模型预测\n",
    "    hands = hands.reshape(1, 34)  # 使其成为符合模型要求的形状\n",
    "    out = filter_prediction(hands, model.predict(hands))\n",
    "\n",
    "\n",
    "    # 找到并返回对应的弃牌\n",
    "    for i, tile in enumerate(hands_input):\n",
    "        if tile['type'] * 9 + tile['index'] - 1 == out:\n",
    "            return i"
   ]
  },
  {
   "cell_type": "code",
   "execution_count": 39,
   "metadata": {},
   "outputs": [
    {
     "name": "stdout",
     "output_type": "stream",
     "text": [
      "1/1 [==============================] - 0s 16ms/step\n",
      "10\n"
     ]
    }
   ],
   "source": [
    "# 測試\n",
    "hands = [1, 0, 0, 0, 0, 0, 0, 0, 0,  3, 0, 0, 0, 0, 0, 0, 0, 1,  1, 0, 0, 0, 0, 0, 0, 0, 1,  1, 1, 1, 1, 1, 1, 1]\n",
    "#new =   [0, 0, 0, 0, 0, 0, 0, 0, 0,  1, 0, 0, 0, 0, 0, 0, 0, 0,  0, 0, 0, 0, 0, 0, 0, 0, 0,  0, 0, 0, 0, 0, 0, 0]\n",
    "new = 9\n",
    "\n",
    "hands_input = [\n",
    "    {'dora': False, 'type': 0, 'index': 3},\n",
    "    {'dora': False, 'type': 0, 'index': 2},\n",
    "    {'dora': False, 'type': 0, 'index': 3},\n",
    "    {'dora': False, 'type': 1, 'index': 4},\n",
    "    {'dora': False, 'type': 1, 'index': 5},\n",
    "    {'dora': False, 'type': 1, 'index': 6},\n",
    "    {'dora': False, 'type': 1, 'index': 7},\n",
    "    {'dora': False, 'type': 1, 'index': 8},\n",
    "    {'dora': False, 'type': 1, 'index': 9},\n",
    "    {'dora': False, 'type': 2, 'index': 0},\n",
    "    {'dora': False, 'type': 3, 'index': 1},\n",
    "    {'dora': False, 'type': 3, 'index': 2},\n",
    "    {'dora': False, 'type': 3, 'index': 3},\n",
    "    {'dora': False, 'type': 3, 'index': 3}\n",
    "]\n",
    "print(discard(hands_input))"
   ]
  },
  {
   "cell_type": "code",
   "execution_count": 2,
   "metadata": {},
   "outputs": [],
   "source": [
    "#吃碰槓模型\n",
    "\n",
    "def action(type, combination, hands):\n",
    "    #type : chi, pong, kong\n",
    "    #combination: 23吃4萬 or 24吃3萬\n",
    "\n",
    "    decision = 0 \n",
    "\n",
    "    return decision"
   ]
  }
 ],
 "metadata": {
  "kernelspec": {
   "display_name": "Python 3",
   "language": "python",
   "name": "python3"
  },
  "language_info": {
   "codemirror_mode": {
    "name": "ipython",
    "version": 3
   },
   "file_extension": ".py",
   "mimetype": "text/x-python",
   "name": "python",
   "nbconvert_exporter": "python",
   "pygments_lexer": "ipython3",
   "version": "3.10.4"
  }
 },
 "nbformat": 4,
 "nbformat_minor": 2
}
